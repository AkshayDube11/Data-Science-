{
 "cells": [
  {
   "cell_type": "markdown",
   "metadata": {},
   "source": [
    "# Day 2: \n",
    "\n",
    "**LOOPS:**\n",
    "1. For \n",
    "2. While "
   ]
  },
  {
   "cell_type": "code",
   "execution_count": 3,
   "metadata": {},
   "outputs": [
    {
     "name": "stdout",
     "output_type": "stream",
     "text": [
      "[10, 20, 30, 40, 3.142, (2+3j), False, 'Akshay']\n",
      "<class 'list'>\n"
     ]
    }
   ],
   "source": [
    "# Datastructure - List:\n",
    "\n",
    "l = [10,20,30,40,3.142,2+3j,False,'Akshay']\n",
    "print(l)\n",
    "print(type(l))"
   ]
  },
  {
   "cell_type": "code",
   "execution_count": 5,
   "metadata": {},
   "outputs": [
    {
     "name": "stdout",
     "output_type": "stream",
     "text": [
      "10\n",
      "20\n",
      "30\n",
      "40\n"
     ]
    }
   ],
   "source": [
    "# Loops: \n",
    "# For Loops:\n",
    "l=[10,20,30,40]\n",
    "for i in l:\n",
    "    print(i)"
   ]
  },
  {
   "cell_type": "code",
   "execution_count": 6,
   "metadata": {},
   "outputs": [
    {
     "name": "stdout",
     "output_type": "stream",
     "text": [
      "Akshay\n",
      "Dube\n",
      "Lets\n",
      "Learn\n"
     ]
    }
   ],
   "source": [
    "l=['Akshay','Dube','Lets','Learn']\n",
    "for var in l:\n",
    "    print(var)"
   ]
  },
  {
   "cell_type": "raw",
   "metadata": {},
   "source": [
    "# While Loop:\n",
    "Syntax - \n",
    "Initialization\n",
    "while condition:\n",
    "    do this\n",
    "    do this\n",
    "    increment/decrement"
   ]
  },
  {
   "cell_type": "code",
   "execution_count": 14,
   "metadata": {},
   "outputs": [
    {
     "name": "stdout",
     "output_type": "stream",
     "text": [
      "1 2 3 4 5 6 7 8 9 10 "
     ]
    }
   ],
   "source": [
    "# Program to print numbers from 1 to 10:\n",
    "i = 1\n",
    "while i<=10:\n",
    "    print(i,end=' ')\n",
    "    i = i+1"
   ]
  },
  {
   "cell_type": "code",
   "execution_count": 17,
   "metadata": {},
   "outputs": [
    {
     "name": "stdout",
     "output_type": "stream",
     "text": [
      "10 9 8 7 6 5 4 3 2 1 "
     ]
    }
   ],
   "source": [
    "# Program to print numbers from 10 to 1:\n",
    "i = 10\n",
    "while i>=1:\n",
    "    print(i,end=' ')\n",
    "    i = i-1"
   ]
  },
  {
   "cell_type": "code",
   "execution_count": 19,
   "metadata": {},
   "outputs": [
    {
     "name": "stdout",
     "output_type": "stream",
     "text": [
      "11 12 13 14 15 "
     ]
    }
   ],
   "source": [
    "# 'end' Attribute:\n",
    "for i in [11,12,13,14,15]:\n",
    "    print(i, end=' ')"
   ]
  },
  {
   "cell_type": "markdown",
   "metadata": {},
   "source": [
    "# Functions:\n",
    "\n",
    "There are two types of Functions:\n",
    "1. Built-In Functions.\n",
    "\n",
    "**For Eg: print(), type(), etc....**\n",
    "2. User-Defined Functions."
   ]
  },
  {
   "cell_type": "code",
   "execution_count": 25,
   "metadata": {},
   "outputs": [
    {
     "name": "stdout",
     "output_type": "stream",
     "text": [
      "Hello\n",
      "<class 'str'>\n",
      "12\n",
      "25.0\n",
      "25\n"
     ]
    }
   ],
   "source": [
    "# Built-in Functions:\n",
    "print('Hello')\n",
    "print(type('AKshay'))\n",
    "print(int(12.94813238))\n",
    "print(float(25))\n",
    "print(pow(5,2))"
   ]
  },
  {
   "cell_type": "code",
   "execution_count": 27,
   "metadata": {},
   "outputs": [
    {
     "name": "stdout",
     "output_type": "stream",
     "text": [
      "Hello, Lets Learn.\n"
     ]
    }
   ],
   "source": [
    "# User-Defined Functions:\n",
    "def greet():\n",
    "    print('Hello,', end=' ')\n",
    "    print('Lets Learn.')\n",
    "greet()"
   ]
  },
  {
   "cell_type": "code",
   "execution_count": 33,
   "metadata": {},
   "outputs": [
    {
     "name": "stdout",
     "output_type": "stream",
     "text": [
      "5\n",
      "8\n",
      "11\n",
      "14\n"
     ]
    }
   ],
   "source": [
    "# Range Function: range(start, stop, step size) -\n",
    "for i in range(5,15,3):\n",
    "    print(i)"
   ]
  },
  {
   "cell_type": "code",
   "execution_count": 34,
   "metadata": {},
   "outputs": [
    {
     "name": "stdout",
     "output_type": "stream",
     "text": [
      "0 1 2 "
     ]
    }
   ],
   "source": [
    "for i in range(3):\n",
    "    print(i,end=' ')"
   ]
  },
  {
   "cell_type": "code",
   "execution_count": 35,
   "metadata": {},
   "outputs": [
    {
     "name": "stdout",
     "output_type": "stream",
     "text": [
      "3 4 5 6 7 8 "
     ]
    }
   ],
   "source": [
    "for i in range(3,9):\n",
    "    print(i,end=' ')"
   ]
  },
  {
   "cell_type": "code",
   "execution_count": 36,
   "metadata": {},
   "outputs": [
    {
     "name": "stdout",
     "output_type": "stream",
     "text": [
      "Hello, Lets Learn.\n",
      "Hello, Lets Learn.\n",
      "Hello, Lets Learn.\n",
      "Hello, Lets Learn.\n",
      "Hello, Lets Learn.\n"
     ]
    }
   ],
   "source": [
    "for i in range(5):\n",
    "    greet()"
   ]
  },
  {
   "cell_type": "code",
   "execution_count": 38,
   "metadata": {},
   "outputs": [
    {
     "name": "stdout",
     "output_type": "stream",
     "text": [
      "Enter the number to be squared:5\n",
      "25\n"
     ]
    }
   ],
   "source": [
    "def mno(a):\n",
    "    print(pow(a,2))\n",
    "mno(int(input('Enter the number to be squared:')))"
   ]
  },
  {
   "cell_type": "code",
   "execution_count": 40,
   "metadata": {},
   "outputs": [
    {
     "name": "stdout",
     "output_type": "stream",
     "text": [
      "15\n",
      "4.5\n",
      "Akshay Akshay Akshay \n",
      "Enter the number:15\n",
      "45\n"
     ]
    }
   ],
   "source": [
    "def mno(a):\n",
    "    print(a*3)\n",
    "mno(5)\n",
    "mno(1.5)\n",
    "mno('Akshay ')\n",
    "mno(int(input('Enter the number:')))"
   ]
  },
  {
   "cell_type": "code",
   "execution_count": 41,
   "metadata": {},
   "outputs": [
    {
     "name": "stdout",
     "output_type": "stream",
     "text": [
      "Enter 1st Number:6\n",
      "Enter 1st Number:8\n",
      "Addition: 14\n",
      "Subtraction: -2\n",
      "Multiplication: 48\n",
      "Division: 0.75\n"
     ]
    }
   ],
   "source": [
    "def cal(a,b):\n",
    "    print('Addition:',a+b)\n",
    "    print('Subtraction:',a-b)\n",
    "    print('Multiplication:',a*b)\n",
    "    print('Division:',a/b)\n",
    "a=int(input('Enter 1st Number:'))\n",
    "b=int(input('Enter 1st Number:'))\n",
    "cal(a,b)"
   ]
  },
  {
   "cell_type": "markdown",
   "metadata": {},
   "source": [
    "# String:"
   ]
  },
  {
   "cell_type": "code",
   "execution_count": 46,
   "metadata": {},
   "outputs": [
    {
     "name": "stdout",
     "output_type": "stream",
     "text": [
      "Akshay\n",
      "<class 'str'>\n",
      "h\n",
      "A\n",
      "y\n",
      "True\n"
     ]
    }
   ],
   "source": [
    "s = 'Akshay'\n",
    "print(s)\n",
    "print(type(s))\n",
    "print(s[3]) #Indexing Operarion on a String.\n",
    "print(s[0])\n",
    "print(s[-1]) #Backward Indexing on a String.\n",
    "print(s[5]==s[-1])"
   ]
  },
  {
   "cell_type": "code",
   "execution_count": 61,
   "metadata": {},
   "outputs": [
    {
     "name": "stdout",
     "output_type": "stream",
     "text": [
      "Akshay\n",
      "Aksha\n",
      "Aksh\n",
      "hay\n",
      "ha\n",
      "a\n"
     ]
    }
   ],
   "source": [
    "s = 'Akshay'\n",
    "print(s)\n",
    "# Slicing Operation on a String:\n",
    "print(s[0:5])\n",
    "print(s[:4])\n",
    "print(s[3:])\n",
    "print(s[3:-1])\n",
    "print(s[-2:-1])"
   ]
  },
  {
   "cell_type": "markdown",
   "metadata": {},
   "source": [
    "# List:"
   ]
  },
  {
   "cell_type": "code",
   "execution_count": 65,
   "metadata": {},
   "outputs": [
    {
     "name": "stdout",
     "output_type": "stream",
     "text": [
      "['A', 'k', 's', 'h', 'a', 'y']\n",
      "<class 'list'>\n",
      "h\n",
      "A\n",
      "y\n",
      "True\n",
      "['A', 'k', 's', 'h', 'a']\n",
      "['A', 'k', 's', 'h']\n",
      "['h', 'a', 'y']\n",
      "['h', 'a']\n",
      "['a']\n"
     ]
    }
   ],
   "source": [
    "s = 'Akshay'\n",
    "l =list(s)\n",
    "print(l)\n",
    "print(type(l))\n",
    "print(l[3]) #Indexing Operarion on a List.\n",
    "print(l[0])\n",
    "print(l[-1]) #Backward Indexing on a List.\n",
    "print(l[5]==l[-1])\n",
    "# Slicing Operation on a List:\n",
    "print(l[0:5])\n",
    "print(l[:4])\n",
    "print(l[3:])\n",
    "print(l[3:-1])\n",
    "print(l[-2:-1])"
   ]
  },
  {
   "cell_type": "markdown",
   "metadata": {},
   "source": [
    "# Tuple:"
   ]
  },
  {
   "cell_type": "code",
   "execution_count": 66,
   "metadata": {},
   "outputs": [
    {
     "name": "stdout",
     "output_type": "stream",
     "text": [
      "('A', 'k', 's', 'h', 'a', 'y')\n",
      "<class 'tuple'>\n",
      "h\n",
      "A\n",
      "y\n",
      "True\n",
      "('A', 'k', 's', 'h', 'a')\n",
      "('A', 'k', 's', 'h')\n",
      "('h', 'a', 'y')\n",
      "('h', 'a')\n",
      "('a',)\n"
     ]
    }
   ],
   "source": [
    "s = 'Akshay'\n",
    "t =tuple(s)\n",
    "print(t)\n",
    "print(type(t))\n",
    "print(t[3]) #Indexing Operarion on a Tuple.\n",
    "print(t[0])\n",
    "print(t[-1]) #Backward Indexing on a Tuple.\n",
    "print(t[5]==t[-1])\n",
    "# Slicing Operation on a Tuple:\n",
    "print(t[0:5])\n",
    "print(t[:4])\n",
    "print(t[3:])\n",
    "print(t[3:-1])\n",
    "print(t[-2:-1])"
   ]
  },
  {
   "cell_type": "code",
   "execution_count": 67,
   "metadata": {},
   "outputs": [
    {
     "name": "stdout",
     "output_type": "stream",
     "text": [
      "[1, 2, 3, 4]\n",
      "1\n",
      "['Akshay', 2, 3, 4]\n",
      "Akshay\n"
     ]
    }
   ],
   "source": [
    "# List is Mutable:\n",
    "l=[1,2,3,4]\n",
    "print(l)\n",
    "print(l[0])\n",
    "l[0]='Akshay'\n",
    "print(l)\n",
    "print(l[0])"
   ]
  },
  {
   "cell_type": "code",
   "execution_count": 70,
   "metadata": {},
   "outputs": [
    {
     "name": "stdout",
     "output_type": "stream",
     "text": [
      "(1, 2, 3, 4)\n",
      "1\n"
     ]
    }
   ],
   "source": [
    "# Tuple is Immutable:\n",
    "t=(1,2,3,4)\n",
    "print(t)\n",
    "print(t[0])\n",
    "# t[0]='Akshay'\n",
    "# print(t)\n",
    "# print(t[0])"
   ]
  },
  {
   "cell_type": "code",
   "execution_count": 72,
   "metadata": {},
   "outputs": [
    {
     "name": "stdout",
     "output_type": "stream",
     "text": [
      "Akshay\n",
      "A\n"
     ]
    }
   ],
   "source": [
    "# String is Immutable:\n",
    "s ='Akshay'\n",
    "print(s)\n",
    "print(s[0])\n",
    "# s[0]='T'\n",
    "# print(s)\n",
    "# print(s[0])"
   ]
  },
  {
   "cell_type": "markdown",
   "metadata": {},
   "source": [
    "# Set: {}\n",
    "\n",
    "**Sets are Unordered and Unindexed Unlike List.**"
   ]
  },
  {
   "cell_type": "code",
   "execution_count": 73,
   "metadata": {},
   "outputs": [
    {
     "name": "stdout",
     "output_type": "stream",
     "text": [
      "{1, 2, 3, 4, 5}\n",
      "<class 'set'>\n"
     ]
    }
   ],
   "source": [
    "s = {1,2,3,4,5}\n",
    "print(s)\n",
    "print(type(s))"
   ]
  },
  {
   "cell_type": "code",
   "execution_count": 77,
   "metadata": {},
   "outputs": [
    {
     "name": "stdout",
     "output_type": "stream",
     "text": [
      "{1, 4, 5.8709, 'Dube', 'Akshay'}\n",
      "<class 'set'>\n"
     ]
    }
   ],
   "source": [
    "s = {1,5.8709,'Akshay',4,'Dube'}\n",
    "print(s)\n",
    "print(type(s))\n",
    "# print(s[0]) - this will throw an error."
   ]
  },
  {
   "cell_type": "markdown",
   "metadata": {},
   "source": [
    "# Dictionary: {Key: Value}\n",
    "\n",
    "**Key and Value Pair together is known as an'Item' in Dictionary.**"
   ]
  },
  {
   "cell_type": "code",
   "execution_count": 82,
   "metadata": {},
   "outputs": [
    {
     "name": "stdout",
     "output_type": "stream",
     "text": [
      "{1: 'Comp', 2: 'EXTC', 3: 'IT'}\n",
      "<class 'dict'>\n",
      "Comp\n",
      "{1: 'Comp', 2: 'Mech', 3: 'IT'}\n"
     ]
    }
   ],
   "source": [
    "d = {1:'Comp',2:'EXTC',3:'IT'}\n",
    "print(d)\n",
    "print(type(d))\n",
    "print(d[1])\n",
    "d[2]='Mech'\n",
    "print(d)"
   ]
  },
  {
   "cell_type": "code",
   "execution_count": 86,
   "metadata": {},
   "outputs": [
    {
     "name": "stdout",
     "output_type": "stream",
     "text": [
      "{2.34: 'Akshay', 12: 10.23, 'Dube': 'All the best'}\n",
      "All the best\n",
      "Akshay\n"
     ]
    }
   ],
   "source": [
    "d = {2.34:'Akshay',12:10.23, 'Dube':'All the best'}\n",
    "print(d)\n",
    "print(d['Dube'])\n",
    "print(d[2.34])"
   ]
  },
  {
   "cell_type": "markdown",
   "metadata": {},
   "source": [
    "# String Functions:"
   ]
  },
  {
   "cell_type": "code",
   "execution_count": 93,
   "metadata": {},
   "outputs": [
    {
     "name": "stdout",
     "output_type": "stream",
     "text": [
      "An apple a day keeps the doctor away\n",
      "akshay\n",
      "AKSHAY\n",
      "aKsHay\n",
      "AkShAT\n",
      "tkShAY\n"
     ]
    }
   ],
   "source": [
    "s = 'AkShAY'\n",
    "t = 'aN ApPLe a DAy KeEpS ThE doCTOr AwAy'\n",
    "print(t.capitalize())\n",
    "print(s.lower())\n",
    "print(s.upper())\n",
    "print(s.swapcase())\n",
    "s1='T'\n",
    "print(s.replace('Y',s1))\n",
    "print(s.replace('A','t',1))"
   ]
  },
  {
   "cell_type": "markdown",
   "metadata": {},
   "source": [
    "# List Functions:"
   ]
  },
  {
   "cell_type": "code",
   "execution_count": 97,
   "metadata": {},
   "outputs": [
    {
     "name": "stdout",
     "output_type": "stream",
     "text": [
      "[1, 2, 3, 4, 5]\n",
      "[1, 2, 3, 4, 5, 'Akshay']\n",
      "[1, 2, 3, 4, 'Akshay']\n",
      "[1, 2, 3, 4, 'Akshay', 'Dube', 100, 200, 300]\n"
     ]
    }
   ],
   "source": [
    "l=[1,2,3,4,5]\n",
    "print(l)\n",
    "l.append('Akshay')\n",
    "print(l)\n",
    "l.pop(4)\n",
    "print(l)\n",
    "l.extend(['Dube',100,200,300])\n",
    "print(l)"
   ]
  },
  {
   "cell_type": "code",
   "execution_count": 98,
   "metadata": {},
   "outputs": [
    {
     "name": "stdout",
     "output_type": "stream",
     "text": [
      "[5, 1, 8, 4, 7, 2]\n",
      "[1, 2, 4, 5, 7, 8]\n"
     ]
    }
   ],
   "source": [
    "l =[5,1,8,4,7,2]\n",
    "print(l)\n",
    "l.sort()\n",
    "print(l)"
   ]
  },
  {
   "cell_type": "code",
   "execution_count": 100,
   "metadata": {},
   "outputs": [
    {
     "name": "stdout",
     "output_type": "stream",
     "text": [
      "[5, 1, 8, 4, 7, 2]\n",
      "[8, 7, 5, 4, 2, 1]\n",
      "[1, 2, 4, 5, 7, 8]\n"
     ]
    }
   ],
   "source": [
    "l =[5,1,8,4,7,2]\n",
    "print(l)\n",
    "l.sort(reverse=True)\n",
    "print(l)\n",
    "l.reverse()\n",
    "print(l)"
   ]
  },
  {
   "cell_type": "code",
   "execution_count": 105,
   "metadata": {},
   "outputs": [
    {
     "name": "stdout",
     "output_type": "stream",
     "text": [
      "[1, 2, 3, 5]\n",
      "[1, 2, 3, 'Akshay', 5]\n"
     ]
    }
   ],
   "source": [
    "l=[1,2,3,5]\n",
    "print(l)\n",
    "l.insert(3,'Akshay')\n",
    "print(l)"
   ]
  },
  {
   "cell_type": "markdown",
   "metadata": {},
   "source": [
    "# Tuple Functions: "
   ]
  },
  {
   "cell_type": "code",
   "execution_count": 106,
   "metadata": {},
   "outputs": [
    {
     "name": "stdout",
     "output_type": "stream",
     "text": [
      "(1, 2, 3, 4, 5)\n",
      "5\n",
      "5\n",
      "1\n"
     ]
    }
   ],
   "source": [
    "t=(1,2,3,4,5)\n",
    "print(t)\n",
    "print(len(t))\n",
    "print(max(t))\n",
    "print(min(t))"
   ]
  },
  {
   "cell_type": "markdown",
   "metadata": {},
   "source": [
    "# Set Functions:"
   ]
  },
  {
   "cell_type": "code",
   "execution_count": 107,
   "metadata": {},
   "outputs": [
    {
     "name": "stdout",
     "output_type": "stream",
     "text": [
      "apple\n",
      "cherry\n",
      "banana\n"
     ]
    }
   ],
   "source": [
    "s = {'apple','banana','cherry'}\n",
    "for i in s:\n",
    "    print(i)"
   ]
  },
  {
   "cell_type": "code",
   "execution_count": 112,
   "metadata": {},
   "outputs": [
    {
     "name": "stdout",
     "output_type": "stream",
     "text": [
      "True\n",
      "True\n",
      "{'cherry', 'banana', 'apple', 'oranges', 'ornages'}\n",
      "True\n",
      "{'mango', 'papaya', 'cherry', 'banana', 'apple', 'oranges', 'ornages'}\n",
      "7\n",
      "{'mango', 'papaya', 'cherry', 'banana', 'oranges', 'ornages'}\n"
     ]
    }
   ],
   "source": [
    "print('banana' in s)\n",
    "print('oranges' in s)\n",
    "s.add('oranges')\n",
    "print(s)\n",
    "print('oranges' in s)\n",
    "s.update(['mango','papaya'])\n",
    "print(s)\n",
    "print(len(s))\n",
    "s.remove('apple')\n",
    "print(s)"
   ]
  },
  {
   "cell_type": "markdown",
   "metadata": {},
   "source": [
    "# Dictionary Functions:"
   ]
  },
  {
   "cell_type": "code",
   "execution_count": 120,
   "metadata": {},
   "outputs": [
    {
     "name": "stdout",
     "output_type": "stream",
     "text": [
      "{1: 'COMP', 2: 'IT', 3: 'EXTC'}\n",
      "<class 'dict'>\n",
      "{1: 'COMP', 2: 'IT', 3: 'EXTC'}\n",
      "<class 'str'>\n",
      "dict_keys([1, 2, 3])\n",
      "<class 'dict_keys'>\n",
      "[1, 2, 3]\n",
      "dict_values(['COMP', 'IT', 'EXTC'])\n",
      "{1: 'COMP', 2: 'IT', 3: 'EXTC'}\n",
      "{2: 'IT', 3: 'EXTC'}\n",
      "{}\n"
     ]
    }
   ],
   "source": [
    "d ={1:'COMP',2:'IT',3:'EXTC'}\n",
    "print(d)\n",
    "print(type(d))\n",
    "print(str(d))\n",
    "print(type(str(d)))\n",
    "print(d.keys())\n",
    "print(type(d.keys()))\n",
    "print(list(d.keys()))\n",
    "print(d.values())\n",
    "print(d)\n",
    "del d[1]\n",
    "print(d)\n",
    "d.clear()\n",
    "print(d)"
   ]
  },
  {
   "cell_type": "code",
   "execution_count": 122,
   "metadata": {},
   "outputs": [
    {
     "name": "stdout",
     "output_type": "stream",
     "text": [
      "{1: 'COMP', 2: 'IT', 3: 'EXTC'}\n",
      "{4: 'BIOTECH'}\n",
      "{1: 'COMP', 2: 'IT', 3: 'EXTC', 4: 'BIOTECH'}\n",
      "{4: 'BIOTECH'}\n"
     ]
    }
   ],
   "source": [
    "d1={1: 'COMP', 2: 'IT', 3: 'EXTC'}\n",
    "d2={4:'BIOTECH'}\n",
    "print(d1)\n",
    "print(d2)\n",
    "d1.update(d2)\n",
    "print(d1)\n",
    "print(d2)"
   ]
  },
  {
   "cell_type": "code",
   "execution_count": null,
   "metadata": {},
   "outputs": [],
   "source": []
  }
 ],
 "metadata": {
  "kernelspec": {
   "display_name": "Python 3",
   "language": "python",
   "name": "python3"
  },
  "language_info": {
   "codemirror_mode": {
    "name": "ipython",
    "version": 3
   },
   "file_extension": ".py",
   "mimetype": "text/x-python",
   "name": "python",
   "nbconvert_exporter": "python",
   "pygments_lexer": "ipython3",
   "version": "3.7.6"
  }
 },
 "nbformat": 4,
 "nbformat_minor": 4
}
