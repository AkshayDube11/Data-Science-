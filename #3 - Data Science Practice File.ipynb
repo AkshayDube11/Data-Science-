{
 "cells": [
  {
   "cell_type": "markdown",
   "metadata": {},
   "source": [
    "# NUMPY Basics:\n",
    "\n",
    "**Exploratory Data Anaylsis Using:**\n",
    "1. Numpy Library.\n",
    "2. Pandas Library.\n",
    "3. Matplotlib Library.\n",
    "4. Seaborn Library."
   ]
  },
  {
   "cell_type": "code",
   "execution_count": 45,
   "metadata": {},
   "outputs": [
    {
     "name": "stdout",
     "output_type": "stream",
     "text": [
      "1.18.1\n"
     ]
    }
   ],
   "source": [
    "import numpy as np \n",
    "print(np.__version__)"
   ]
  },
  {
   "cell_type": "code",
   "execution_count": 46,
   "metadata": {},
   "outputs": [
    {
     "name": "stdout",
     "output_type": "stream",
     "text": [
      "[1 5 4 2 9]\n",
      "<class 'numpy.ndarray'>\n"
     ]
    }
   ],
   "source": [
    "arr = np.array([1,5,4,2,9])\n",
    "print(arr)\n",
    "print(type(arr))"
   ]
  },
  {
   "cell_type": "code",
   "execution_count": 47,
   "metadata": {},
   "outputs": [
    {
     "data": {
      "text/plain": [
       "dtype('int32')"
      ]
     },
     "execution_count": 47,
     "metadata": {},
     "output_type": "execute_result"
    }
   ],
   "source": [
    "arr.dtype"
   ]
  },
  {
   "cell_type": "code",
   "execution_count": 48,
   "metadata": {},
   "outputs": [
    {
     "data": {
      "text/plain": [
       "21"
      ]
     },
     "execution_count": 48,
     "metadata": {},
     "output_type": "execute_result"
    }
   ],
   "source": [
    "np.sum(arr)"
   ]
  },
  {
   "cell_type": "code",
   "execution_count": 49,
   "metadata": {},
   "outputs": [
    {
     "name": "stdout",
     "output_type": "stream",
     "text": [
      "[1. 5. 4. 2. 9.]\n",
      "float64\n",
      "21.0\n"
     ]
    }
   ],
   "source": [
    "arr = np.array([1,5,4,2.0,9])\n",
    "print(arr)\n",
    "print(arr.dtype)\n",
    "print(np.sum(arr))"
   ]
  },
  {
   "cell_type": "code",
   "execution_count": 50,
   "metadata": {},
   "outputs": [
    {
     "name": "stdout",
     "output_type": "stream",
     "text": [
      "['1' '5' '4' '2.0' '9' 'Akshay']\n",
      "<U32\n"
     ]
    }
   ],
   "source": [
    "arr = np.array([1,5,4,2.0,9,'Akshay'])\n",
    "print(arr)\n",
    "print(arr.dtype)"
   ]
  },
  {
   "cell_type": "code",
   "execution_count": 51,
   "metadata": {},
   "outputs": [
    {
     "name": "stdout",
     "output_type": "stream",
     "text": [
      "[1 2 3 4 5 6 7 8 9]\n",
      "(9,)\n"
     ]
    }
   ],
   "source": [
    "arr = np.array([1,2,3,4,5,6,7,8,9])\n",
    "print(arr)\n",
    "print(arr.shape)"
   ]
  },
  {
   "cell_type": "code",
   "execution_count": 52,
   "metadata": {},
   "outputs": [
    {
     "name": "stdout",
     "output_type": "stream",
     "text": [
      "[[1 2 3]\n",
      " [4 5 6]\n",
      " [7 8 9]]\n"
     ]
    }
   ],
   "source": [
    "arr = np.array([[1,2,3],[4,5,6],[7,8,9]])\n",
    "print(arr)"
   ]
  },
  {
   "cell_type": "code",
   "execution_count": 53,
   "metadata": {},
   "outputs": [
    {
     "data": {
      "text/plain": [
       "(3, 3)"
      ]
     },
     "execution_count": 53,
     "metadata": {},
     "output_type": "execute_result"
    }
   ],
   "source": [
    "arr.shape"
   ]
  },
  {
   "cell_type": "code",
   "execution_count": 54,
   "metadata": {},
   "outputs": [
    {
     "name": "stdout",
     "output_type": "stream",
     "text": [
      "[list([1, 2, 3]) list([4, 5, 6]) list([99, 45])]\n",
      "(3,)\n"
     ]
    }
   ],
   "source": [
    "arr = np.array([[1,2,3],[4,5,6],[99,45]])\n",
    "print(arr)\n",
    "print(arr.shape)"
   ]
  },
  {
   "cell_type": "code",
   "execution_count": 55,
   "metadata": {},
   "outputs": [
    {
     "name": "stdout",
     "output_type": "stream",
     "text": [
      "[[0. 0. 0. 0.]\n",
      " [0. 0. 0. 0.]]\n"
     ]
    }
   ],
   "source": [
    "arr = np.zeros((2,4))\n",
    "print(arr)"
   ]
  },
  {
   "cell_type": "code",
   "execution_count": 56,
   "metadata": {},
   "outputs": [
    {
     "name": "stdout",
     "output_type": "stream",
     "text": [
      "[[1. 1. 1. 1.]\n",
      " [1. 1. 1. 1.]]\n"
     ]
    }
   ],
   "source": [
    "arr = np.ones((2,4))\n",
    "print(arr)"
   ]
  },
  {
   "cell_type": "code",
   "execution_count": 57,
   "metadata": {},
   "outputs": [
    {
     "data": {
      "text/plain": [
       "array([[1., 0., 0., 0., 0.],\n",
       "       [0., 1., 0., 0., 0.],\n",
       "       [0., 0., 1., 0., 0.],\n",
       "       [0., 0., 0., 1., 0.],\n",
       "       [0., 0., 0., 0., 1.]])"
      ]
     },
     "execution_count": 57,
     "metadata": {},
     "output_type": "execute_result"
    }
   ],
   "source": [
    "np.identity(5)"
   ]
  },
  {
   "cell_type": "code",
   "execution_count": 58,
   "metadata": {},
   "outputs": [
    {
     "data": {
      "text/plain": [
       "array([[ 1.10062503, -0.30446147,  0.45350628,  0.56567993],\n",
       "       [ 0.91133921,  0.20642328,  0.35888667,  1.440393  ],\n",
       "       [ 0.63345375,  0.11460252, -0.79062029,  0.18497064]])"
      ]
     },
     "execution_count": 58,
     "metadata": {},
     "output_type": "execute_result"
    }
   ],
   "source": [
    "arr = np.random.randn(3,4)\n",
    "arr"
   ]
  },
  {
   "cell_type": "code",
   "execution_count": 59,
   "metadata": {},
   "outputs": [
    {
     "name": "stdout",
     "output_type": "stream",
     "text": [
      "[[ 0.16527839 -1.00741201 -0.03672672  0.02143008 -0.28892989  0.55055531\n",
      "   0.06727561 -1.37253919 -1.59416319 -0.24896057]\n",
      " [-0.90175001 -0.70623805  0.77055226 -0.13726493  0.0175304  -0.08216716\n",
      "  -0.82306907  0.39741777  0.65118665 -2.26116042]\n",
      " [-0.36696008 -0.10437278  0.43865691 -0.43229029 -1.45508703 -0.43142097\n",
      "   0.77803717  1.26297237  0.25788553 -0.78064112]\n",
      " [ 0.24848833 -1.10357181  1.56635081  1.66220363  0.68382135 -1.4931111\n",
      "   0.09922385 -0.87467016  0.88493882 -0.91973974]\n",
      " [ 0.52192167  0.62875377 -1.13562496 -1.29398467  0.68623076 -1.31302411\n",
      "   1.48076286  1.7329126   2.34006011 -0.70083698]\n",
      " [ 2.2175381  -0.22576908 -1.95974221 -0.96020633 -0.55018477  1.69479419\n",
      "  -0.34574734  1.73070807  0.50153641 -1.12490087]\n",
      " [ 0.1243083   0.64159438 -1.2790347   0.34400832  1.50157729  0.32083097\n",
      "  -1.00140609 -1.21086571  1.08459149 -0.20837193]\n",
      " [ 0.49435948 -0.73645591  0.18126082  1.72734119  0.30770255 -1.26467657\n",
      "  -1.52526087  0.24919702 -0.83116764 -1.36497938]\n",
      " [ 0.56840994  1.03462953  2.24377549  0.37941202  1.05139456  0.12000184\n",
      "  -1.5240863  -0.26255649 -1.36702948  1.82704462]\n",
      " [ 0.35440362  0.59325115 -0.82491658  0.23429668 -0.6741829   1.31082231\n",
      "  -0.73942549 -0.26479724  0.83813097 -0.90051594]]\n",
      "Minimum: -2.261160424701215\n",
      "Maximum: 2.340060108896513\n"
     ]
    }
   ],
   "source": [
    "arr = np.random.randn(10,10)\n",
    "print(arr)\n",
    "print('Minimum:',np.min(arr))\n",
    "print('Maximum:',np.max(arr))"
   ]
  },
  {
   "cell_type": "code",
   "execution_count": 60,
   "metadata": {},
   "outputs": [
    {
     "name": "stdout",
     "output_type": "stream",
     "text": [
      "[[1 2 3]\n",
      " [4 5 6]\n",
      " [7 8 9]]\n"
     ]
    }
   ],
   "source": [
    "# Indexing:\n",
    "arr = np.array([[1,2,3],[4,5,6],[7,8,9]])\n",
    "print(arr)"
   ]
  },
  {
   "cell_type": "code",
   "execution_count": 61,
   "metadata": {},
   "outputs": [
    {
     "data": {
      "text/plain": [
       "array([1, 2, 3])"
      ]
     },
     "execution_count": 61,
     "metadata": {},
     "output_type": "execute_result"
    }
   ],
   "source": [
    "arr[0]"
   ]
  },
  {
   "cell_type": "code",
   "execution_count": 62,
   "metadata": {},
   "outputs": [
    {
     "data": {
      "text/plain": [
       "array([7, 8, 9])"
      ]
     },
     "execution_count": 62,
     "metadata": {},
     "output_type": "execute_result"
    }
   ],
   "source": [
    "arr[2]"
   ]
  },
  {
   "cell_type": "code",
   "execution_count": 63,
   "metadata": {},
   "outputs": [
    {
     "data": {
      "text/plain": [
       "2"
      ]
     },
     "execution_count": 63,
     "metadata": {},
     "output_type": "execute_result"
    }
   ],
   "source": [
    "arr[0][1]"
   ]
  },
  {
   "cell_type": "code",
   "execution_count": 64,
   "metadata": {},
   "outputs": [
    {
     "data": {
      "text/plain": [
       "array([[1, 2, 3],\n",
       "       [4, 5, 6]])"
      ]
     },
     "execution_count": 64,
     "metadata": {},
     "output_type": "execute_result"
    }
   ],
   "source": [
    "arr[0:2]"
   ]
  },
  {
   "cell_type": "code",
   "execution_count": 65,
   "metadata": {},
   "outputs": [
    {
     "name": "stdout",
     "output_type": "stream",
     "text": [
      "range(0, 12)\n"
     ]
    }
   ],
   "source": [
    "print(range(12))"
   ]
  },
  {
   "cell_type": "code",
   "execution_count": 66,
   "metadata": {},
   "outputs": [
    {
     "name": "stdout",
     "output_type": "stream",
     "text": [
      "[ 0  1  2  3  4  5  6  7  8  9 10 11]\n"
     ]
    }
   ],
   "source": [
    "print(np.arange(12))"
   ]
  },
  {
   "cell_type": "code",
   "execution_count": 67,
   "metadata": {},
   "outputs": [
    {
     "data": {
      "text/plain": [
       "array([[1, 2, 3],\n",
       "       [4, 5, 6],\n",
       "       [7, 8, 9]])"
      ]
     },
     "execution_count": 67,
     "metadata": {},
     "output_type": "execute_result"
    }
   ],
   "source": [
    "np.arange(1,10).reshape(3,3)"
   ]
  },
  {
   "cell_type": "code",
   "execution_count": 72,
   "metadata": {},
   "outputs": [
    {
     "data": {
      "text/plain": [
       "array([[[ 0,  1,  2],\n",
       "        [ 3,  4,  5]],\n",
       "\n",
       "       [[ 6,  7,  8],\n",
       "        [ 9, 10, 11]]])"
      ]
     },
     "execution_count": 72,
     "metadata": {},
     "output_type": "execute_result"
    }
   ],
   "source": [
    "arr = np.arange(12).reshape(2,2,3)\n",
    "arr"
   ]
  },
  {
   "cell_type": "code",
   "execution_count": 73,
   "metadata": {},
   "outputs": [
    {
     "data": {
      "text/plain": [
       "array([[0, 1, 2],\n",
       "       [3, 4, 5]])"
      ]
     },
     "execution_count": 73,
     "metadata": {},
     "output_type": "execute_result"
    }
   ],
   "source": [
    "arr[0]"
   ]
  },
  {
   "cell_type": "code",
   "execution_count": 74,
   "metadata": {},
   "outputs": [
    {
     "data": {
      "text/plain": [
       "array([3, 4, 5])"
      ]
     },
     "execution_count": 74,
     "metadata": {},
     "output_type": "execute_result"
    }
   ],
   "source": [
    "arr[0][1]"
   ]
  },
  {
   "cell_type": "code",
   "execution_count": 75,
   "metadata": {},
   "outputs": [
    {
     "data": {
      "text/plain": [
       "5"
      ]
     },
     "execution_count": 75,
     "metadata": {},
     "output_type": "execute_result"
    }
   ],
   "source": [
    "arr[0][1][2]"
   ]
  },
  {
   "cell_type": "code",
   "execution_count": 80,
   "metadata": {},
   "outputs": [
    {
     "data": {
      "text/plain": [
       "7"
      ]
     },
     "execution_count": 80,
     "metadata": {},
     "output_type": "execute_result"
    }
   ],
   "source": [
    "# print 7:\n",
    "arr[1][0][1]"
   ]
  },
  {
   "cell_type": "code",
   "execution_count": 81,
   "metadata": {},
   "outputs": [
    {
     "data": {
      "text/plain": [
       "array([[[0, 1, 2],\n",
       "        [3, 4, 5]]])"
      ]
     },
     "execution_count": 81,
     "metadata": {},
     "output_type": "execute_result"
    }
   ],
   "source": [
    "# Slicing:\n",
    "arr[0:1]"
   ]
  },
  {
   "cell_type": "code",
   "execution_count": 82,
   "metadata": {},
   "outputs": [
    {
     "data": {
      "text/plain": [
       "array([[[ 0,  1,  2],\n",
       "        [ 3,  4,  5]],\n",
       "\n",
       "       [[ 6,  7,  8],\n",
       "        [ 9, 10, 11]]])"
      ]
     },
     "execution_count": 82,
     "metadata": {},
     "output_type": "execute_result"
    }
   ],
   "source": [
    "arr[0:2]"
   ]
  },
  {
   "cell_type": "code",
   "execution_count": 83,
   "metadata": {},
   "outputs": [
    {
     "data": {
      "text/plain": [
       "array([ 0,  1,  2,  3,  4,  5,  6,  7,  8,  9, 10, 11])"
      ]
     },
     "execution_count": 83,
     "metadata": {},
     "output_type": "execute_result"
    }
   ],
   "source": [
    "np.arange(12)"
   ]
  },
  {
   "cell_type": "code",
   "execution_count": 84,
   "metadata": {},
   "outputs": [
    {
     "data": {
      "text/plain": [
       "2"
      ]
     },
     "execution_count": 84,
     "metadata": {},
     "output_type": "execute_result"
    }
   ],
   "source": [
    "np.arange(12)[1:6][1]"
   ]
  },
  {
   "cell_type": "code",
   "execution_count": 85,
   "metadata": {},
   "outputs": [
    {
     "data": {
      "text/plain": [
       "numpy.int32"
      ]
     },
     "execution_count": 85,
     "metadata": {},
     "output_type": "execute_result"
    }
   ],
   "source": [
    "type(np.arange(12)[1:6][1])"
   ]
  },
  {
   "cell_type": "code",
   "execution_count": 87,
   "metadata": {},
   "outputs": [
    {
     "data": {
      "text/plain": [
       "array([[ 0,  1,  2,  3,  4],\n",
       "       [ 5,  6,  7,  8,  9],\n",
       "       [10, 11, 12, 13, 14]])"
      ]
     },
     "execution_count": 87,
     "metadata": {},
     "output_type": "execute_result"
    }
   ],
   "source": [
    "# U Functions:(Universal Function - Helps with Broadcasting)\n",
    "arr = np.arange(15).reshape(3,5)\n",
    "arr"
   ]
  },
  {
   "cell_type": "code",
   "execution_count": 88,
   "metadata": {},
   "outputs": [
    {
     "data": {
      "text/plain": [
       "array([[ 5,  6,  7,  8,  9],\n",
       "       [10, 11, 12, 13, 14],\n",
       "       [15, 16, 17, 18, 19]])"
      ]
     },
     "execution_count": 88,
     "metadata": {},
     "output_type": "execute_result"
    }
   ],
   "source": [
    "arr+5"
   ]
  },
  {
   "cell_type": "code",
   "execution_count": 89,
   "metadata": {},
   "outputs": [
    {
     "data": {
      "text/plain": [
       "array([[ 0,  2,  4,  6,  8],\n",
       "       [10, 12, 14, 16, 18],\n",
       "       [20, 22, 24, 26, 28]])"
      ]
     },
     "execution_count": 89,
     "metadata": {},
     "output_type": "execute_result"
    }
   ],
   "source": [
    "arr*2"
   ]
  },
  {
   "cell_type": "code",
   "execution_count": 96,
   "metadata": {},
   "outputs": [
    {
     "name": "stdout",
     "output_type": "stream",
     "text": [
      "[[ 0  1  2]\n",
      " [ 3  4  5]\n",
      " [ 6  7  8]\n",
      " [ 9 10 11]\n",
      " [12 13 14]]\n",
      "-----------------\n",
      "[[0]\n",
      " [1]\n",
      " [2]\n",
      " [3]\n",
      " [4]]\n",
      "-----------------\n",
      "[[ 0  1  2]\n",
      " [ 4  5  6]\n",
      " [ 8  9 10]\n",
      " [12 13 14]\n",
      " [16 17 18]]\n"
     ]
    }
   ],
   "source": [
    "arr1 = np.arange(15).reshape(5,3)\n",
    "arr2 = np.arange(5).reshape(5,1)\n",
    "print(arr1)\n",
    "print('-----------------')\n",
    "print(arr2)\n",
    "print('-----------------')\n",
    "print(arr1+arr2)"
   ]
  },
  {
   "cell_type": "code",
   "execution_count": 101,
   "metadata": {},
   "outputs": [
    {
     "name": "stdout",
     "output_type": "stream",
     "text": [
      "[[1 2 3]\n",
      " [4 5 6]\n",
      " [7 8 9]]\n",
      "-----------------\n",
      "[[2 2 2]\n",
      " [3 3 3]\n",
      " [4 4 4]]\n",
      "-----------------\n",
      "[[20 20 20]\n",
      " [47 47 47]\n",
      " [74 74 74]]\n",
      "-----------------\n",
      "[[1 4 7]\n",
      " [2 5 8]\n",
      " [3 6 9]]\n"
     ]
    }
   ],
   "source": [
    "A = np.array([[1,2,3],[4,5,6],[7,8,9]])\n",
    "B = np.array([[2,2,2],[3,3,3],[4,4,4]])\n",
    "print(A)\n",
    "print('-----------------')\n",
    "print(B)\n",
    "print('-----------------')\n",
    "print(A.dot(B)) # dot function does perform matrix multiplication.\n",
    "print('-----------------')\n",
    "print(A.T)"
   ]
  },
  {
   "cell_type": "raw",
   "metadata": {},
   "source": [
    "Linear Algebra:\n",
    "\n",
    "\n",
    "7x + 5y - 3z = 16\n",
    "3x - 5y + 2z = -8\n",
    "5x + 3y - 7z = 0"
   ]
  },
  {
   "cell_type": "code",
   "execution_count": 104,
   "metadata": {},
   "outputs": [
    {
     "data": {
      "text/plain": [
       "array([1., 3., 2.])"
      ]
     },
     "execution_count": 104,
     "metadata": {},
     "output_type": "execute_result"
    }
   ],
   "source": [
    "a = np.array([[7,5,-3],[3,-5,2],[5,3,-7]])\n",
    "b = np.array([16,-8,0])\n",
    "ans = np.linalg.solve(a,b)\n",
    "ans"
   ]
  },
  {
   "cell_type": "markdown",
   "metadata": {},
   "source": [
    "# Matplotlib:"
   ]
  },
  {
   "cell_type": "code",
   "execution_count": 105,
   "metadata": {},
   "outputs": [],
   "source": [
    "import matplotlib.pyplot as plt\n",
    "plt.style.use('classic')"
   ]
  },
  {
   "cell_type": "code",
   "execution_count": 107,
   "metadata": {},
   "outputs": [
    {
     "data": {
      "text/plain": [
       "array([ 0. ,  2.5,  5. ,  7.5, 10. ])"
      ]
     },
     "execution_count": 107,
     "metadata": {},
     "output_type": "execute_result"
    }
   ],
   "source": [
    "x = np.linspace(0,10,5)\n",
    "x"
   ]
  },
  {
   "cell_type": "code",
   "execution_count": 110,
   "metadata": {},
   "outputs": [
    {
     "data": {
      "image/png": "[encoded data removed]",
      "text/plain": [
       "<Figure size 640x480 with 1 Axes>"
      ]
     },
     "metadata": {},
     "output_type": "display_data"
    }
   ],
   "source": [
    "x = np.linspace(0,10,100)\n",
    "plt.plot(x, np.sin(x))\n",
    "plt.plot(x, np.cos(x));"
   ]
  },
  {
   "cell_type": "code",
   "execution_count": 111,
   "metadata": {},
   "outputs": [
    {
     "data": {
      "application/javascript": [
       "/* Put everything inside the global mpl namespace */\n",
       "window.mpl = {};\n",
       "\n",
       "\n",
       "mpl.get_websocket_type = function() {\n",
       "    if (typeof(WebSocket) !== 'undefined') {\n",
       "        return WebSocket;\n",
       "    } else if (typeof(MozWebSocket) !== 'undefined') {\n",
       "        return MozWebSocket;\n",
       "    } else {\n",
       "        alert('Your browser does not have WebSocket support. ' +\n",
       "              'Please try Chrome, Safari or Firefox ≥ 6. ' +\n",
       "              'Firefox 4 and 5 are also supported but you ' +\n",
       "              'have to enable WebSockets in about:config.');\n",
       "    };\n",
       "}\n",
       "\n",
       "mpl.figure = function(figure_id, websocket, ondownload, parent_element) {\n",
       "    this.id = figure_id;\n",
       "\n",
       "    this.ws = websocket;\n",
       "\n",
       "    this.supports_binary = (this.ws.binaryType != undefined);\n",
       "\n",
       "    if (!this.supports_binary) {\n",
       "        var warnings = document.getElementById(\"mpl-warnings\");\n",
       "        if (warnings) {\n",
       "            warnings.style.display = 'block';\n",
       "            warnings.textContent = (\n",
       "                \"This browser does not support binary websocket messages. \" +\n",
       "                    \"Performance may be slow.\");\n",
       "        }\n",
       "    }\n",
       "\n",
       "    this.imageObj = new Image();\n",
       "\n",
       "    this.context = undefined;\n",
       "    this.message = undefined;\n",
       "    this.canvas = undefined;\n",
       "    this.rubberband_canvas = undefined;\n",
       "    this.rubberband_context = undefined;\n",
       "    this.format_dropdown = undefined;\n",
       "\n",
       "    this.image_mode = 'full';\n",
       "\n",
       "    this.root = $('<div/>');\n",
       "    this._root_extra_style(this.root)\n",
       "    this.root.attr('style', 'display: inline-block');\n",
       "\n",
       "    $(parent_element).append(this.root);\n",
       "\n",
       "    this._init_header(this);\n",
       "    this._init_canvas(this);\n",
       "    this._init_toolbar(this);\n",
       "\n",
       "    var fig = this;\n",
       "\n",
       "    this.waiting = false;\n",
       "\n",
       "    this.ws.onopen =  function () {\n",
       "            fig.send_message(\"supports_binary\", {value: fig.supports_binary});\n",
       "            fig.send_message(\"send_image_mode\", {});\n",
       "            if (mpl.ratio != 1) {\n",
       "                fig.send_message(\"set_dpi_ratio\", {'dpi_ratio': mpl.ratio});\n",
       "            }\n",
       "            fig.send_message(\"refresh\", {});\n",
       "        }\n",
       "\n",
       "    this.imageObj.onload = function() {\n",
       "            if (fig.image_mode == 'full') {\n",
       "                // Full images could contain transparency (where diff images\n",
       "                // almost always do), so we need to clear the canvas so that\n",
       "                // there is no ghosting.\n",
       "                fig.context.clearRect(0, 0, fig.canvas.width, fig.canvas.height);\n",
       "            }\n",
       "            fig.context.drawImage(fig.imageObj, 0, 0);\n",
       "        };\n",
       "\n",
       "    this.imageObj.onunload = function() {\n",
       "        fig.ws.close();\n",
       "    }\n",
       "\n",
       "    this.ws.onmessage = this._make_on_message_function(this);\n",
       "\n",
       "    this.ondownload = ondownload;\n",
       "}\n",
       "\n",
       "mpl.figure.prototype._init_header = function() {\n",
       "    var titlebar = $(\n",
       "        '<div class=\"ui-dialog-titlebar ui-widget-header ui-corner-all ' +\n",
       "        'ui-helper-clearfix\"/>');\n",
       "    var titletext = $(\n",
       "        '<div class=\"ui-dialog-title\" style=\"width: 100%; ' +\n",
       "        'text-align: center; padding: 3px;\"/>');\n",
       "    titlebar.append(titletext)\n",
       "    this.root.append(titlebar);\n",
       "    this.header = titletext[0];\n",
       "}\n",
       "\n",
       "\n",
       "\n",
       "mpl.figure.prototype._canvas_extra_style = function(canvas_div) {\n",
       "\n",
       "}\n",
       "\n",
       "\n",
       "mpl.figure.prototype._root_extra_style = function(canvas_div) {\n",
       "\n",
       "}\n",
       "\n",
       "mpl.figure.prototype._init_canvas = function() {\n",
       "    var fig = this;\n",
       "\n",
       "    var canvas_div = $('<div/>');\n",
       "\n",
       "    canvas_div.attr('style', 'position: relative; clear: both; outline: 0');\n",
       "\n",
       "    function canvas_keyboard_event(event) {\n",
       "        return fig.key_event(event, event['data']);\n",
       "    }\n",
       "\n",
       "    canvas_div.keydown('key_press', canvas_keyboard_event);\n",
       "    canvas_div.keyup('key_release', canvas_keyboard_event);\n",
       "    this.canvas_div = canvas_div\n",
       "    this._canvas_extra_style(canvas_div)\n",
       "    this.root.append(canvas_div);\n",
       "\n",
       "    var canvas = $('<canvas/>');\n",
       "    canvas.addClass('mpl-canvas');\n",
       "    canvas.attr('style', \"left: 0; top: 0; z-index: 0; outline: 0\")\n",
       "\n",
       "    this.canvas = canvas[0];\n",
       "    this.context = canvas[0].getContext(\"2d\");\n",
       "\n",
       "    var backingStore = this.context.backingStorePixelRatio ||\n",
       "\tthis.context.webkitBackingStorePixelRatio ||\n",
       "\tthis.context.mozBackingStorePixelRatio ||\n",
       "\tthis.context.msBackingStorePixelRatio ||\n",
       "\tthis.context.oBackingStorePixelRatio ||\n",
       "\tthis.context.backingStorePixelRatio || 1;\n",
       "\n",
       "    mpl.ratio = (window.devicePixelRatio || 1) / backingStore;\n",
       "\n",
       "    var rubberband = $('<canvas/>');\n",
       "    rubberband.attr('style', \"position: absolute; left: 0; top: 0; z-index: 1;\")\n",
       "\n",
       "    var pass_mouse_events = true;\n",
       "\n",
       "    canvas_div.resizable({\n",
       "        start: function(event, ui) {\n",
       "            pass_mouse_events = false;\n",
       "        },\n",
       "        resize: function(event, ui) {\n",
       "            fig.request_resize(ui.size.width, ui.size.height);\n",
       "        },\n",
       "        stop: function(event, ui) {\n",
       "            pass_mouse_events = true;\n",
       "            fig.request_resize(ui.size.width, ui.size.height);\n",
       "        },\n",
       "    });\n",
       "\n",
       "    function mouse_event_fn(event) {\n",
       "        if (pass_mouse_events)\n",
       "            return fig.mouse_event(event, event['data']);\n",
       "    }\n",
       "\n",
       "    rubberband.mousedown('button_press', mouse_event_fn);\n",
       "    rubberband.mouseup('button_release', mouse_event_fn);\n",
       "    // Throttle sequential mouse events to 1 every 20ms.\n",
       "    rubberband.mousemove('motion_notify', mouse_event_fn);\n",
       "\n",
       "    rubberband.mouseenter('figure_enter', mouse_event_fn);\n",
       "    rubberband.mouseleave('figure_leave', mouse_event_fn);\n",
       "\n",
       "    canvas_div.on(\"wheel\", function (event) {\n",
       "        event = event.originalEvent;\n",
       "        event['data'] = 'scroll'\n",
       "        if (event.deltaY < 0) {\n",
       "            event.step = 1;\n",
       "        } else {\n",
       "            event.step = -1;\n",
       "        }\n",
       "        mouse_event_fn(event);\n",
       "    });\n",
       "\n",
       "    canvas_div.append(canvas);\n",
       "    canvas_div.append(rubberband);\n",
       "\n",
       "    this.rubberband = rubberband;\n",
       "    this.rubberband_canvas = rubberband[0];\n",
       "    this.rubberband_context = rubberband[0].getContext(\"2d\");\n",
       "    this.rubberband_context.strokeStyle = \"#000000\";\n",
       "\n",
       "    this._resize_canvas = function(width, height) {\n",
       "        // Keep the size of the canvas, canvas container, and rubber band\n",
       "        // canvas in synch.\n",
       "        canvas_div.css('width', width)\n",
       "        canvas_div.css('height', height)\n",
       "\n",
       "        canvas.attr('width', width * mpl.ratio);\n",
       "        canvas.attr('height', height * mpl.ratio);\n",
       "        canvas.attr('style', 'width: ' + width + 'px; height: ' + height + 'px;');\n",
       "\n",
       "        rubberband.attr('width', width);\n",
       "        rubberband.attr('height', height);\n",
       "    }\n",
       "\n",
       "    // Set the figure to an initial 600x600px, this will subsequently be updated\n",
       "    // upon first draw.\n",
       "    this._resize_canvas(600, 600);\n",
       "\n",
       "    // Disable right mouse context menu.\n",
       "    $(this.rubberband_canvas).bind(\"contextmenu\",function(e){\n",
       "        return false;\n",
       "    });\n",
       "\n",
       "    function set_focus () {\n",
       "        canvas.focus();\n",
       "        canvas_div.focus();\n",
       "    }\n",
       "\n",
       "    window.setTimeout(set_focus, 100);\n",
       "}\n",
       "\n",
       "mpl.figure.prototype._init_toolbar = function() {\n",
       "    var fig = this;\n",
       "\n",
       "    var nav_element = $('<div/>');\n",
       "    nav_element.attr('style', 'width: 100%');\n",
       "    this.root.append(nav_element);\n",
       "\n",
       "    // Define a callback function for later on.\n",
       "    function toolbar_event(event) {\n",
       "        return fig.toolbar_button_onclick(event['data']);\n",
       "    }\n",
       "    function toolbar_mouse_event(event) {\n",
       "        return fig.toolbar_button_onmouseover(event['data']);\n",
       "    }\n",
       "\n",
       "    for(var toolbar_ind in mpl.toolbar_items) {\n",
       "        var name = mpl.toolbar_items[toolbar_ind][0];\n",
       "        var tooltip = mpl.toolbar_items[toolbar_ind][1];\n",
       "        var image = mpl.toolbar_items[toolbar_ind][2];\n",
       "        var method_name = mpl.toolbar_items[toolbar_ind][3];\n",
       "\n",
       "        if (!name) {\n",
       "            // put a spacer in here.\n",
       "            continue;\n",
       "        }\n",
       "        var button = $('<button/>');\n",
       "        button.addClass('ui-button ui-widget ui-state-default ui-corner-all ' +\n",
       "                        'ui-button-icon-only');\n",
       "        button.attr('role', 'button');\n",
       "        button.attr('aria-disabled', 'false');\n",
       "        button.click(method_name, toolbar_event);\n",
       "        button.mouseover(tooltip, toolbar_mouse_event);\n",
       "\n",
       "        var icon_img = $('<span/>');\n",
       "        icon_img.addClass('ui-button-icon-primary ui-icon');\n",
       "        icon_img.addClass(image);\n",
       "        icon_img.addClass('ui-corner-all');\n",
       "\n",
       "        var tooltip_span = $('<span/>');\n",
       "        tooltip_span.addClass('ui-button-text');\n",
       "        tooltip_span.html(tooltip);\n",
       "\n",
       "        button.append(icon_img);\n",
       "        button.append(tooltip_span);\n",
       "\n",
       "        nav_element.append(button);\n",
       "    }\n",
       "\n",
       "    var fmt_picker_span = $('<span/>');\n",
       "\n",
       "    var fmt_picker = $('<select/>');\n",
       "    fmt_picker.addClass('mpl-toolbar-option ui-widget ui-widget-content');\n",
       "    fmt_picker_span.append(fmt_picker);\n",
       "    nav_element.append(fmt_picker_span);\n",
       "    this.format_dropdown = fmt_picker[0];\n",
       "\n",
       "    for (var ind in mpl.extensions) {\n",
       "        var fmt = mpl.extensions[ind];\n",
       "        var option = $(\n",
       "            '<option/>', {selected: fmt === mpl.default_extension}).html(fmt);\n",
       "        fmt_picker.append(option);\n",
       "    }\n",
       "\n",
       "    // Add hover states to the ui-buttons\n",
       "    $( \".ui-button\" ).hover(\n",
       "        function() { $(this).addClass(\"ui-state-hover\");},\n",
       "        function() { $(this).removeClass(\"ui-state-hover\");}\n",
       "    );\n",
       "\n",
       "    var status_bar = $('<span class=\"mpl-message\"/>');\n",
       "    nav_element.append(status_bar);\n",
       "    this.message = status_bar[0];\n",
       "}\n",
       "\n",
       "mpl.figure.prototype.request_resize = function(x_pixels, y_pixels) {\n",
       "    // Request matplotlib to resize the figure. Matplotlib will then trigger a resize in the client,\n",
       "    // which will in turn request a refresh of the image.\n",
       "    this.send_message('resize', {'width': x_pixels, 'height': y_pixels});\n",
       "}\n",
       "\n",
       "mpl.figure.prototype.send_message = function(type, properties) {\n",
       "    properties['type'] = type;\n",
       "    properties['figure_id'] = this.id;\n",
       "    this.ws.send(JSON.stringify(properties));\n",
       "}\n",
       "\n",
       "mpl.figure.prototype.send_draw_message = function() {\n",
       "    if (!this.waiting) {\n",
       "        this.waiting = true;\n",
       "        this.ws.send(JSON.stringify({type: \"draw\", figure_id: this.id}));\n",
       "    }\n",
       "}\n",
       "\n",
       "\n",
       "mpl.figure.prototype.handle_save = function(fig, msg) {\n",
       "    var format_dropdown = fig.format_dropdown;\n",
       "    var format = format_dropdown.options[format_dropdown.selectedIndex].value;\n",
       "    fig.ondownload(fig, format);\n",
       "}\n",
       "\n",
       "\n",
       "mpl.figure.prototype.handle_resize = function(fig, msg) {\n",
       "    var size = msg['size'];\n",
       "    if (size[0] != fig.canvas.width || size[1] != fig.canvas.height) {\n",
       "        fig._resize_canvas(size[0], size[1]);\n",
       "        fig.send_message(\"refresh\", {});\n",
       "    };\n",
       "}\n",
       "\n",
       "mpl.figure.prototype.handle_rubberband = function(fig, msg) {\n",
       "    var x0 = msg['x0'] / mpl.ratio;\n",
       "    var y0 = (fig.canvas.height - msg['y0']) / mpl.ratio;\n",
       "    var x1 = msg['x1'] / mpl.ratio;\n",
       "    var y1 = (fig.canvas.height - msg['y1']) / mpl.ratio;\n",
       "    x0 = Math.floor(x0) + 0.5;\n",
       "    y0 = Math.floor(y0) + 0.5;\n",
       "    x1 = Math.floor(x1) + 0.5;\n",
       "    y1 = Math.floor(y1) + 0.5;\n",
       "    var min_x = Math.min(x0, x1);\n",
       "    var min_y = Math.min(y0, y1);\n",
       "    var width = Math.abs(x1 - x0);\n",
       "    var height = Math.abs(y1 - y0);\n",
       "\n",
       "    fig.rubberband_context.clearRect(\n",
       "        0, 0, fig.canvas.width / mpl.ratio, fig.canvas.height / mpl.ratio);\n",
       "\n",
       "    fig.rubberband_context.strokeRect(min_x, min_y, width, height);\n",
       "}\n",
       "\n",
       "mpl.figure.prototype.handle_figure_label = function(fig, msg) {\n",
       "    // Updates the figure title.\n",
       "    fig.header.textContent = msg['label'];\n",
       "}\n",
       "\n",
       "mpl.figure.prototype.handle_cursor = function(fig, msg) {\n",
       "    var cursor = msg['cursor'];\n",
       "    switch(cursor)\n",
       "    {\n",
       "    case 0:\n",
       "        cursor = 'pointer';\n",
       "        break;\n",
       "    case 1:\n",
       "        cursor = 'default';\n",
       "        break;\n",
       "    case 2:\n",
       "        cursor = 'crosshair';\n",
       "        break;\n",
       "    case 3:\n",
       "        cursor = 'move';\n",
       "        break;\n",
       "    }\n",
       "    fig.rubberband_canvas.style.cursor = cursor;\n",
       "}\n",
       "\n",
       "mpl.figure.prototype.handle_message = function(fig, msg) {\n",
       "    fig.message.textContent = msg['message'];\n",
       "}\n",
       "\n",
       "mpl.figure.prototype.handle_draw = function(fig, msg) {\n",
       "    // Request the server to send over a new figure.\n",
       "    fig.send_draw_message();\n",
       "}\n",
       "\n",
       "mpl.figure.prototype.handle_image_mode = function(fig, msg) {\n",
       "    fig.image_mode = msg['mode'];\n",
       "}\n",
       "\n",
       "mpl.figure.prototype.updated_canvas_event = function() {\n",
       "    // Called whenever the canvas gets updated.\n",
       "    this.send_message(\"ack\", {});\n",
       "}\n",
       "\n",
       "// A function to construct a web socket function for onmessage handling.\n",
       "// Called in the figure constructor.\n",
       "mpl.figure.prototype._make_on_message_function = function(fig) {\n",
       "    return function socket_on_message(evt) {\n",
       "        if (evt.data instanceof Blob) {\n",
       "            /* FIXME: We get \"Resource interpreted as Image but\n",
       "             * transferred with MIME type text/plain:\" errors on\n",
       "             * Chrome.  But how to set the MIME type?  It doesn't seem\n",
       "             * to be part of the websocket stream */\n",
       "            evt.data.type = \"image/png\";\n",
       "\n",
       "            /* Free the memory for the previous frames */\n",
       "            if (fig.imageObj.src) {\n",
       "                (window.URL || window.webkitURL).revokeObjectURL(\n",
       "                    fig.imageObj.src);\n",
       "            }\n",
       "\n",
       "            fig.imageObj.src = (window.URL || window.webkitURL).createObjectURL(\n",
       "                evt.data);\n",
       "            fig.updated_canvas_event();\n",
       "            fig.waiting = false;\n",
       "            return;\n",
       "        }\n",
       "        else if (typeof evt.data === 'string' && evt.data.slice(0, 21) == \"data:image/png;base64\") {\n",
       "            fig.imageObj.src = evt.data;\n",
       "            fig.updated_canvas_event();\n",
       "            fig.waiting = false;\n",
       "            return;\n",
       "        }\n",
       "\n",
       "        var msg = JSON.parse(evt.data);\n",
       "        var msg_type = msg['type'];\n",
       "\n",
       "        // Call the  \"handle_{type}\" callback, which takes\n",
       "        // the figure and JSON message as its only arguments.\n",
       "        try {\n",
       "            var callback = fig[\"handle_\" + msg_type];\n",
       "        } catch (e) {\n",
       "            console.log(\"No handler for the '\" + msg_type + \"' message type: \", msg);\n",
       "            return;\n",
       "        }\n",
       "\n",
       "        if (callback) {\n",
       "            try {\n",
       "                // console.log(\"Handling '\" + msg_type + \"' message: \", msg);\n",
       "                callback(fig, msg);\n",
       "            } catch (e) {\n",
       "                console.log(\"Exception inside the 'handler_\" + msg_type + \"' callback:\", e, e.stack, msg);\n",
       "            }\n",
       "        }\n",
       "    };\n",
       "}\n",
       "\n",
       "// from http://stackoverflow.com/questions/1114465/getting-mouse-location-in-canvas\n",
       "mpl.findpos = function(e) {\n",
       "    //this section is from http://www.quirksmode.org/js/events_properties.html\n",
       "    var targ;\n",
       "    if (!e)\n",
       "        e = window.event;\n",
       "    if (e.target)\n",
       "        targ = e.target;\n",
       "    else if (e.srcElement)\n",
       "        targ = e.srcElement;\n",
       "    if (targ.nodeType == 3) // defeat Safari bug\n",
       "        targ = targ.parentNode;\n",
       "\n",
       "    // jQuery normalizes the pageX and pageY\n",
       "    // pageX,Y are the mouse positions relative to the document\n",
       "    // offset() returns the position of the element relative to the document\n",
       "    var x = e.pageX - $(targ).offset().left;\n",
       "    var y = e.pageY - $(targ).offset().top;\n",
       "\n",
       "    return {\"x\": x, \"y\": y};\n",
       "};\n",
       "\n",
       "/*\n",
       " * return a copy of an object with only non-object keys\n",
       " * we need this to avoid circular references\n",
       " * http://stackoverflow.com/a/24161582/3208463\n",
       " */\n",
       "function simpleKeys (original) {\n",
       "  return Object.keys(original).reduce(function (obj, key) {\n",
       "    if (typeof original[key] !== 'object')\n",
       "        obj[key] = original[key]\n",
       "    return obj;\n",
       "  }, {});\n",
       "}\n",
       "\n",
       "mpl.figure.prototype.mouse_event = function(event, name) {\n",
       "    var canvas_pos = mpl.findpos(event)\n",
       "\n",
       "    if (name === 'button_press')\n",
       "    {\n",
       "        this.canvas.focus();\n",
       "        this.canvas_div.focus();\n",
       "    }\n",
       "\n",
       "    var x = canvas_pos.x * mpl.ratio;\n",
       "    var y = canvas_pos.y * mpl.ratio;\n",
       "\n",
       "    this.send_message(name, {x: x, y: y, button: event.button,\n",
       "                             step: event.step,\n",
       "                             guiEvent: simpleKeys(event)});\n",
       "\n",
       "    /* This prevents the web browser from automatically changing to\n",
       "     * the text insertion cursor when the button is pressed.  We want\n",
       "     * to control all of the cursor setting manually through the\n",
       "     * 'cursor' event from matplotlib */\n",
       "    event.preventDefault();\n",
       "    return false;\n",
       "}\n",
       "\n",
       "mpl.figure.prototype._key_event_extra = function(event, name) {\n",
       "    // Handle any extra behaviour associated with a key event\n",
       "}\n",
       "\n",
       "mpl.figure.prototype.key_event = function(event, name) {\n",
       "\n",
       "    // Prevent repeat events\n",
       "    if (name == 'key_press')\n",
       "    {\n",
       "        if (event.which === this._key)\n",
       "            return;\n",
       "        else\n",
       "            this._key = event.which;\n",
       "    }\n",
       "    if (name == 'key_release')\n",
       "        this._key = null;\n",
       "\n",
       "    var value = '';\n",
       "    if (event.ctrlKey && event.which != 17)\n",
       "        value += \"ctrl+\";\n",
       "    if (event.altKey && event.which != 18)\n",
       "        value += \"alt+\";\n",
       "    if (event.shiftKey && event.which != 16)\n",
       "        value += \"shift+\";\n",
       "\n",
       "    value += 'k';\n",
       "    value += event.which.toString();\n",
       "\n",
       "    this._key_event_extra(event, name);\n",
       "\n",
       "    this.send_message(name, {key: value,\n",
       "                             guiEvent: simpleKeys(event)});\n",
       "    return false;\n",
       "}\n",
       "\n",
       "mpl.figure.prototype.toolbar_button_onclick = function(name) {\n",
       "    if (name == 'download') {\n",
       "        this.handle_save(this, null);\n",
       "    } else {\n",
       "        this.send_message(\"toolbar_button\", {name: name});\n",
       "    }\n",
       "};\n",
       "\n",
       "mpl.figure.prototype.toolbar_button_onmouseover = function(tooltip) {\n",
       "    this.message.textContent = tooltip;\n",
       "};\n",
       "mpl.toolbar_items = [[\"Home\", \"Reset original view\", \"fa fa-home icon-home\", \"home\"], [\"Back\", \"Back to previous view\", \"fa fa-arrow-left icon-arrow-left\", \"back\"], [\"Forward\", \"Forward to next view\", \"fa fa-arrow-right icon-arrow-right\", \"forward\"], [\"\", \"\", \"\", \"\"], [\"Pan\", \"Pan axes with left mouse, zoom with right\", \"fa fa-arrows icon-move\", \"pan\"], [\"Zoom\", \"Zoom to rectangle\", \"fa fa-square-o icon-check-empty\", \"zoom\"], [\"\", \"\", \"\", \"\"], [\"Download\", \"Download plot\", \"fa fa-floppy-o icon-save\", \"download\"]];\n",
       "\n",
       "mpl.extensions = [\"eps\", \"jpeg\", \"pdf\", \"png\", \"ps\", \"raw\", \"svg\", \"tif\"];\n",
       "\n",
       "mpl.default_extension = \"png\";var comm_websocket_adapter = function(comm) {\n",
       "    // Create a \"websocket\"-like object which calls the given IPython comm\n",
       "    // object with the appropriate methods. Currently this is a non binary\n",
       "    // socket, so there is still some room for performance tuning.\n",
       "    var ws = {};\n",
       "\n",
       "    ws.close = function() {\n",
       "        comm.close()\n",
       "    };\n",
       "    ws.send = function(m) {\n",
       "        //console.log('sending', m);\n",
       "        comm.send(m);\n",
       "    };\n",
       "    // Register the callback with on_msg.\n",
       "    comm.on_msg(function(msg) {\n",
       "        //console.log('receiving', msg['content']['data'], msg);\n",
       "        // Pass the mpl event to the overridden (by mpl) onmessage function.\n",
       "        ws.onmessage(msg['content']['data'])\n",
       "    });\n",
       "    return ws;\n",
       "}\n",
       "\n",
       "mpl.mpl_figure_comm = function(comm, msg) {\n",
       "    // This is the function which gets called when the mpl process\n",
       "    // starts-up an IPython Comm through the \"matplotlib\" channel.\n",
       "\n",
       "    var id = msg.content.data.id;\n",
       "    // Get hold of the div created by the display call when the Comm\n",
       "    // socket was opened in Python.\n",
       "    var element = $(\"#\" + id);\n",
       "    var ws_proxy = comm_websocket_adapter(comm)\n",
       "\n",
       "    function ondownload(figure, format) {\n",
       "        window.open(figure.imageObj.src);\n",
       "    }\n",
       "\n",
       "    var fig = new mpl.figure(id, ws_proxy,\n",
       "                           ondownload,\n",
       "                           element.get(0));\n",
       "\n",
       "    // Call onopen now - mpl needs it, as it is assuming we've passed it a real\n",
       "    // web socket which is closed, not our websocket->open comm proxy.\n",
       "    ws_proxy.onopen();\n",
       "\n",
       "    fig.parent_element = element.get(0);\n",
       "    fig.cell_info = mpl.find_output_cell(\"<div id='\" + id + \"'></div>\");\n",
       "    if (!fig.cell_info) {\n",
       "        console.error(\"Failed to find cell for figure\", id, fig);\n",
       "        return;\n",
       "    }\n",
       "\n",
       "    var output_index = fig.cell_info[2]\n",
       "    var cell = fig.cell_info[0];\n",
       "\n",
       "};\n",
       "\n",
       "mpl.figure.prototype.handle_close = function(fig, msg) {\n",
       "    var width = fig.canvas.width/mpl.ratio\n",
       "    fig.root.unbind('remove')\n",
       "\n",
       "    // Update the output cell to use the data from the current canvas.\n",
       "    fig.push_to_output();\n",
       "    var dataURL = fig.canvas.toDataURL();\n",
       "    // Re-enable the keyboard manager in IPython - without this line, in FF,\n",
       "    // the notebook keyboard shortcuts fail.\n",
       "    IPython.keyboard_manager.enable()\n",
       "    $(fig.parent_element).html('<img src=\"' + dataURL + '\" width=\"' + width + '\">');\n",
       "    fig.close_ws(fig, msg);\n",
       "}\n",
       "\n",
       "mpl.figure.prototype.close_ws = function(fig, msg){\n",
       "    fig.send_message('closing', msg);\n",
       "    // fig.ws.close()\n",
       "}\n",
       "\n",
       "mpl.figure.prototype.push_to_output = function(remove_interactive) {\n",
       "    // Turn the data on the canvas into data in the output cell.\n",
       "    var width = this.canvas.width/mpl.ratio\n",
       "    var dataURL = this.canvas.toDataURL();\n",
       "    this.cell_info[1]['text/html'] = '<img src=\"' + dataURL + '\" width=\"' + width + '\">';\n",
       "}\n",
       "\n",
       "mpl.figure.prototype.updated_canvas_event = function() {\n",
       "    // Tell IPython that the notebook contents must change.\n",
       "    IPython.notebook.set_dirty(true);\n",
       "    this.send_message(\"ack\", {});\n",
       "    var fig = this;\n",
       "    // Wait a second, then push the new image to the DOM so\n",
       "    // that it is saved nicely (might be nice to debounce this).\n",
       "    setTimeout(function () { fig.push_to_output() }, 1000);\n",
       "}\n",
       "\n",
       "mpl.figure.prototype._init_toolbar = function() {\n",
       "    var fig = this;\n",
       "\n",
       "    var nav_element = $('<div/>');\n",
       "    nav_element.attr('style', 'width: 100%');\n",
       "    this.root.append(nav_element);\n",
       "\n",
       "    // Define a callback function for later on.\n",
       "    function toolbar_event(event) {\n",
       "        return fig.toolbar_button_onclick(event['data']);\n",
       "    }\n",
       "    function toolbar_mouse_event(event) {\n",
       "        return fig.toolbar_button_onmouseover(event['data']);\n",
       "    }\n",
       "\n",
       "    for(var toolbar_ind in mpl.toolbar_items){\n",
       "        var name = mpl.toolbar_items[toolbar_ind][0];\n",
       "        var tooltip = mpl.toolbar_items[toolbar_ind][1];\n",
       "        var image = mpl.toolbar_items[toolbar_ind][2];\n",
       "        var method_name = mpl.toolbar_items[toolbar_ind][3];\n",
       "\n",
       "        if (!name) { continue; };\n",
       "\n",
       "        var button = $('<button class=\"btn btn-default\" href=\"#\" title=\"' + name + '\"><i class=\"fa ' + image + ' fa-lg\"></i></button>');\n",
       "        button.click(method_name, toolbar_event);\n",
       "        button.mouseover(tooltip, toolbar_mouse_event);\n",
       "        nav_element.append(button);\n",
       "    }\n",
       "\n",
       "    // Add the status bar.\n",
       "    var status_bar = $('<span class=\"mpl-message\" style=\"text-align:right; float: right;\"/>');\n",
       "    nav_element.append(status_bar);\n",
       "    this.message = status_bar[0];\n",
       "\n",
       "    // Add the close button to the window.\n",
       "    var buttongrp = $('<div class=\"btn-group inline pull-right\"></div>');\n",
       "    var button = $('<button class=\"btn btn-mini btn-primary\" href=\"#\" title=\"Stop Interaction\"><i class=\"fa fa-power-off icon-remove icon-large\"></i></button>');\n",
       "    button.click(function (evt) { fig.handle_close(fig, {}); } );\n",
       "    button.mouseover('Stop Interaction', toolbar_mouse_event);\n",
       "    buttongrp.append(button);\n",
       "    var titlebar = this.root.find($('.ui-dialog-titlebar'));\n",
       "    titlebar.prepend(buttongrp);\n",
       "}\n",
       "\n",
       "mpl.figure.prototype._root_extra_style = function(el){\n",
       "    var fig = this\n",
       "    el.on(\"remove\", function(){\n",
       "\tfig.close_ws(fig, {});\n",
       "    });\n",
       "}\n",
       "\n",
       "mpl.figure.prototype._canvas_extra_style = function(el){\n",
       "    // this is important to make the div 'focusable\n",
       "    el.attr('tabindex', 0)\n",
       "    // reach out to IPython and tell the keyboard manager to turn it's self\n",
       "    // off when our div gets focus\n",
       "\n",
       "    // location in version 3\n",
       "    if (IPython.notebook.keyboard_manager) {\n",
       "        IPython.notebook.keyboard_manager.register_events(el);\n",
       "    }\n",
       "    else {\n",
       "        // location in version 2\n",
       "        IPython.keyboard_manager.register_events(el);\n",
       "    }\n",
       "\n",
       "}\n",
       "\n",
       "mpl.figure.prototype._key_event_extra = function(event, name) {\n",
       "    var manager = IPython.notebook.keyboard_manager;\n",
       "    if (!manager)\n",
       "        manager = IPython.keyboard_manager;\n",
       "\n",
       "    // Check for shift+enter\n",
       "    if (event.shiftKey && event.which == 13) {\n",
       "        this.canvas_div.blur();\n",
       "        // select the cell after this one\n",
       "        var index = IPython.notebook.find_cell_index(this.cell_info[0]);\n",
       "        IPython.notebook.select(index + 1);\n",
       "    }\n",
       "}\n",
       "\n",
       "mpl.figure.prototype.handle_save = function(fig, msg) {\n",
       "    fig.ondownload(fig, null);\n",
       "}\n",
       "\n",
       "\n",
       "mpl.find_output_cell = function(html_output) {\n",
       "    // Return the cell and output element which can be found *uniquely* in the notebook.\n",
       "    // Note - this is a bit hacky, but it is done because the \"notebook_saving.Notebook\"\n",
       "    // IPython event is triggered only after the cells have been serialised, which for\n",
       "    // our purposes (turning an active figure into a static one), is too late.\n",
       "    var cells = IPython.notebook.get_cells();\n",
       "    var ncells = cells.length;\n",
       "    for (var i=0; i<ncells; i++) {\n",
       "        var cell = cells[i];\n",
       "        if (cell.cell_type === 'code'){\n",
       "            for (var j=0; j<cell.output_area.outputs.length; j++) {\n",
       "                var data = cell.output_area.outputs[j];\n",
       "                if (data.data) {\n",
       "                    // IPython >= 3 moved mimebundle to data attribute of output\n",
       "                    data = data.data;\n",
       "                }\n",
       "                if (data['text/html'] == html_output) {\n",
       "                    return [cell, data, j];\n",
       "                }\n",
       "            }\n",
       "        }\n",
       "    }\n",
       "}\n",
       "\n",
       "// Register the function which deals with the matplotlib target/channel.\n",
       "// The kernel may be null if the page has been refreshed.\n",
       "if (IPython.notebook.kernel != null) {\n",
       "    IPython.notebook.kernel.comm_manager.register_target('matplotlib', mpl.mpl_figure_comm);\n",
       "}\n"
      ],
      "text/plain": [
       "<IPython.core.display.Javascript object>"
      ]
     },
     "metadata": {},
     "output_type": "display_data"
    },
    {
     "data": {
      "text/html": [
       "<img src=\"data:image/png;base64,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\" width=\"972\">"
      ],
      "text/plain": [
       "<IPython.core.display.HTML object>"
      ]
     },
     "metadata": {},
     "output_type": "display_data"
    }
   ],
   "source": [
    "%matplotlib notebook\n",
    "x = np.linspace(0,10,100)\n",
    "plt.plot(x, np.sin(x))\n",
    "plt.plot(x, np.cos(x));"
   ]
  },
  {
   "cell_type": "code",
   "execution_count": 114,
   "metadata": {},
   "outputs": [
    {
     "data": {
      "image/png": "[encoded data removed]",
      "text/plain": [
       "<Figure size 432x288 with 1 Axes>"
      ]
     },
     "metadata": {
      "needs_background": "light"
     },
     "output_type": "display_data"
    }
   ],
   "source": [
    "%matplotlib inline \n",
    "x = np.linspace(0,10,100)\n",
    "plt.plot(x, np.sin(x))\n",
    "plt.plot(x, np.cos(x));"
   ]
  },
  {
   "cell_type": "code",
   "execution_count": 115,
   "metadata": {},
   "outputs": [
    {
     "data": {
      "image/png": "[encoded data removed]",
      "text/plain": [
       "<Figure size 432x288 with 1 Axes>"
      ]
     },
     "metadata": {
      "needs_background": "light"
     },
     "output_type": "display_data"
    }
   ],
   "source": [
    "x = np.linspace(0,10,100)\n",
    "plt.plot(x, np.sin(x),'-')\n",
    "plt.plot(x, np.cos(x),'--');"
   ]
  },
  {
   "cell_type": "code",
   "execution_count": 118,
   "metadata": {},
   "outputs": [
    {
     "data": {
      "image/png": "[encoded data removed]",
      "text/plain": [
       "<Figure size 432x288 with 2 Axes>"
      ]
     },
     "metadata": {
      "needs_background": "light"
     },
     "output_type": "display_data"
    }
   ],
   "source": [
    "plt.figure()\n",
    "plt.subplot(2,1,1)\n",
    "plt.plot(x,np.sin(x),'-')\n",
    "plt.subplot(2,1,2)\n",
    "plt.plot(x,np.cos(x),'--');"
   ]
  },
  {
   "cell_type": "code",
   "execution_count": 123,
   "metadata": {},
   "outputs": [
    {
     "data": {
      "image/png": "[encoded data removed]",
      "text/plain": [
       "<Figure size 720x360 with 2 Axes>"
      ]
     },
     "metadata": {
      "needs_background": "light"
     },
     "output_type": "display_data"
    }
   ],
   "source": [
    "plt.figure(figsize=(10,5))\n",
    "plt.subplot(1,2,1)\n",
    "plt.plot(x,np.sin(x),'-')\n",
    "plt.subplot(1,2,2)\n",
    "plt.plot(x,np.cos(x),'--');"
   ]
  },
  {
   "cell_type": "code",
   "execution_count": 127,
   "metadata": {},
   "outputs": [
    {
     "data": {
      "image/png": "[encoded data removed]",
      "text/plain": [
       "<Figure size 720x360 with 4 Axes>"
      ]
     },
     "metadata": {
      "needs_background": "light"
     },
     "output_type": "display_data"
    }
   ],
   "source": [
    "plt.figure(figsize=(10,5))\n",
    "plt.subplot(2,2,1)\n",
    "plt.plot(x,np.sin(x),'-')\n",
    "plt.subplot(2,2,2)\n",
    "plt.plot(x,np.cos(x),'--');\n",
    "plt.subplot(2,2,3)\n",
    "plt.plot(x,np.sinh(x),'-g');\n",
    "plt.subplot(2,2,4)\n",
    "plt.plot(x,np.cosh(x),':b');"
   ]
  },
  {
   "cell_type": "code",
   "execution_count": 125,
   "metadata": {},
   "outputs": [
    {
     "data": {
      "text/plain": [
       "Text(0, 0.5, 'sin(x)')"
      ]
     },
     "execution_count": 125,
     "metadata": {},
     "output_type": "execute_result"
    },
    {
     "data": {
      "image/png": "[encoded data removed]",
      "text/plain": [
       "<Figure size 432x288 with 1 Axes>"
      ]
     },
     "metadata": {
      "needs_background": "light"
     },
     "output_type": "display_data"
    }
   ],
   "source": [
    "# Labeling The Plots:\n",
    "plt.plot(x,np.sin(x));\n",
    "plt.title('A Sine Curve')\n",
    "plt.xlabel('x')\n",
    "plt.ylabel('sin(x)')"
   ]
  },
  {
   "cell_type": "code",
   "execution_count": 126,
   "metadata": {},
   "outputs": [
    {
     "data": {
      "text/plain": [
       "<matplotlib.legend.Legend at 0x23c6895a08>"
      ]
     },
     "execution_count": 126,
     "metadata": {},
     "output_type": "execute_result"
    },
    {
     "data": {
      "image/png": "[encoded data removed]",
      "text/plain": [
       "<Figure size 432x288 with 1 Axes>"
      ]
     },
     "metadata": {
      "needs_background": "light"
     },
     "output_type": "display_data"
    }
   ],
   "source": [
    "plt.plot(x,np.sin(x),'-g', label='sin(x)')\n",
    "plt.plot(x,np.cos(x),':b', label='cos(x)')\n",
    "plt.legend()"
   ]
  },
  {
   "cell_type": "code",
   "execution_count": null,
   "metadata": {},
   "outputs": [],
   "source": []
  }
 ],
 "metadata": {
  "kernelspec": {
   "display_name": "Python 3",
   "language": "python",
   "name": "python3"
  },
  "language_info": {
   "codemirror_mode": {
    "name": "ipython",
    "version": 3
   },
   "file_extension": ".py",
   "mimetype": "text/x-python",
   "name": "python",
   "nbconvert_exporter": "python",
   "pygments_lexer": "ipython3",
   "version": "3.7.6"
  }
 },
 "nbformat": 4,
 "nbformat_minor": 4
}
