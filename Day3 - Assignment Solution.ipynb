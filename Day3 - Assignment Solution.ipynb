{
 "cells": [
  {
   "cell_type": "markdown",
   "metadata": {},
   "source": [
    "# Day 3 - Assignment Solution:"
   ]
  },
  {
   "cell_type": "raw",
   "metadata": {},
   "source": [
    "Questions 1:\n",
    "Create a numpy array starting from 2 till 50 with a stepsize of 3."
   ]
  },
  {
   "cell_type": "code",
   "execution_count": 3,
   "metadata": {},
   "outputs": [
    {
     "name": "stdout",
     "output_type": "stream",
     "text": [
      "1.18.1\n",
      "The array starting from 2 till 50 with a stepsize of 3 is: [ 2  5  8 11 14 17 20 23 26 29 32 35 38 41 44 47]\n",
      "<class 'numpy.ndarray'>\n"
     ]
    }
   ],
   "source": [
    "import numpy as np\n",
    "print(np.__version__)\n",
    "arr = np.arange(2,50,3)\n",
    "print('The array starting from 2 till 50 with a stepsize of 3 is:',arr)\n",
    "print(type(arr))"
   ]
  },
  {
   "cell_type": "raw",
   "metadata": {},
   "source": [
    "Questions 2:\n",
    "Accept two lists of 5 elements each from the user.\n",
    "Convert them to numpy arrays. Concatenate these arrays and print it. Also sort these arrays and print it."
   ]
  },
  {
   "cell_type": "code",
   "execution_count": 14,
   "metadata": {},
   "outputs": [
    {
     "name": "stdout",
     "output_type": "stream",
     "text": [
      "Enter 1st list of numbers:37859\n",
      "Enter 2nd list of numbers:98532\n",
      "1st Array: ['3' '7' '8' '5' '9']\n",
      "---------------------------------------------------------------\n",
      "2nd Array: ['9' '8' '5' '3' '2']\n",
      "---------------------------------------------------------------\n",
      "<class 'numpy.ndarray'>\n",
      "---------------------------------------------------------------\n",
      "<class 'numpy.ndarray'>\n",
      "---------------------------------------------------------------\n",
      "Concatenated Arrays are: ['3' '7' '8' '5' '9' '9' '8' '5' '3' '2']\n",
      "---------------------------------------------------------------\n",
      "1st Sorted Array: ['3' '5' '7' '8' '9']\n",
      "---------------------------------------------------------------\n",
      "2nd Sorted Array: ['2' '3' '5' '8' '9']\n",
      "---------------------------------------------------------------\n",
      "Resultant Sorted Array: ['2' '3' '3' '5' '5' '7' '8' '8' '9' '9']\n"
     ]
    }
   ],
   "source": [
    "l1 = list(input('Enter 1st list of numbers:'))\n",
    "l2 = list(input('Enter 2nd list of numbers:'))\n",
    "l1 = np.array(l1)\n",
    "l2 = np.array(l2)\n",
    "print('1st Array:',l1)\n",
    "print('---------------------------------------------------------------')\n",
    "print('2nd Array:',l2)\n",
    "print('---------------------------------------------------------------')\n",
    "print(type(l1))\n",
    "print('---------------------------------------------------------------')\n",
    "print(type(l2))\n",
    "print('---------------------------------------------------------------')\n",
    "l3 = np.concatenate((l1,l2))\n",
    "print('Concatenated Arrays are:',l3)\n",
    "print('---------------------------------------------------------------')\n",
    "print('1st Sorted Array:',np.sort(l1))\n",
    "print('---------------------------------------------------------------')\n",
    "print('2nd Sorted Array:',np.sort(l2))\n",
    "print('---------------------------------------------------------------')\n",
    "print('Resultant Sorted Array:',np.sort(l3))"
   ]
  },
  {
   "cell_type": "raw",
   "metadata": {},
   "source": [
    "Questions 3:\n",
    "Write a code snippet to find the dimensions of a ndarray and its size."
   ]
  },
  {
   "cell_type": "code",
   "execution_count": 15,
   "metadata": {},
   "outputs": [
    {
     "name": "stdout",
     "output_type": "stream",
     "text": [
      "The Array is: [[[2.78199564e-312 2.78261950e-312]\n",
      "  [2.78259676e-312 2.78280939e-312]\n",
      "  [2.78280598e-312 2.78280598e-312]\n",
      "  [2.78280597e-312 2.78280597e-312]\n",
      "  [2.78279095e-312 2.78279094e-312]]\n",
      "\n",
      " [[2.78280620e-312 2.78280620e-312]\n",
      "  [2.78281664e-312 2.78281664e-312]\n",
      "  [2.78281671e-312 2.78281671e-312]\n",
      "  [2.78280699e-312 2.78280700e-312]\n",
      "  [2.78280700e-312 2.78281678e-312]]\n",
      "\n",
      " [[2.78281679e-312 2.78281679e-312]\n",
      "  [2.78281679e-312 2.78281679e-312]\n",
      "  [2.78281679e-312 2.78281679e-312]\n",
      "  [2.78281679e-312 2.78281679e-312]\n",
      "  [2.78281679e-312 2.78281710e-312]]\n",
      "\n",
      " [[2.78281710e-312 2.78281709e-312]\n",
      "  [2.78281710e-312 2.78281693e-312]\n",
      "  [2.78281692e-312 2.78281710e-312]\n",
      "  [2.78281709e-312 2.78281710e-312]\n",
      "  [2.78281693e-312 2.78281693e-312]]]\n",
      "---------------------------------------------------------------\n",
      "Dimension of the Array is: 3\n",
      "---------------------------------------------------------------\n",
      "Size of the Array is: 40\n"
     ]
    }
   ],
   "source": [
    "arr1 = np.ndarray([4,5,2])\n",
    "print('The Array is:',arr1)\n",
    "print('---------------------------------------------------------------')\n",
    "print('Dimension of the Array is:',np.ndim(arr1))\n",
    "print('---------------------------------------------------------------')\n",
    "print('Size of the Array is:',np.size(arr1))"
   ]
  },
  {
   "cell_type": "raw",
   "metadata": {},
   "source": [
    "Questions 4:\n",
    "How to convert a 1D array into a 2D array? Demonstrate with the help of a code snippet\n",
    "Hint: np.newaxis, np.expand_dims"
   ]
  },
  {
   "cell_type": "code",
   "execution_count": 25,
   "metadata": {},
   "outputs": [
    {
     "name": "stdout",
     "output_type": "stream",
     "text": [
      "(4,)\n",
      "1\n",
      "---------------------------------------------------------------\n",
      "[[0]\n",
      " [1]\n",
      " [2]\n",
      " [3]]\n",
      "(4, 1)\n",
      "2\n",
      "---------------------------------------------------------------\n",
      "[[[0]\n",
      "  [1]\n",
      "  [2]\n",
      "  [3]]]\n",
      "(1, 4, 1)\n",
      "3\n"
     ]
    }
   ],
   "source": [
    "abc = np.arange(4)\n",
    "print(abc.shape)\n",
    "print(np.ndim(abc))\n",
    "print('---------------------------------------------------------------')\n",
    "abc1=abc[:,np.newaxis]\n",
    "print(abc1)\n",
    "print(abc1.shape)\n",
    "print(np.ndim(abc1))\n",
    "print('---------------------------------------------------------------')\n",
    "abc2 = np.expand_dims(abc,axis=(0,2))\n",
    "print(abc2)\n",
    "print(abc2.shape)\n",
    "print(np.ndim(abc2))"
   ]
  },
  {
   "cell_type": "raw",
   "metadata": {},
   "source": [
    "Questions 5:\n",
    "Consider two square numpy arrays. Stack them vertically and horizontally.\n",
    "Hint: Use vstack(), hstack()"
   ]
  },
  {
   "cell_type": "code",
   "execution_count": 31,
   "metadata": {},
   "outputs": [
    {
     "name": "stdout",
     "output_type": "stream",
     "text": [
      "Vertically Stacked Array:\n",
      " [[ 1  2  3  4  5]\n",
      " [ 6  7  8  9 10]]\n",
      "Horizontally Stacked Array:\n",
      " [ 1  2  3  4  5  6  7  8  9 10]\n"
     ]
    }
   ],
   "source": [
    "ar1 = np.array([1,2,3,4,5])\n",
    "ar2 = np.array([6,7,8,9,10])\n",
    "print('Vertically Stacked Array:\\n',np.vstack((ar1,ar2)))\n",
    "print('Horizontally Stacked Array:\\n',np.hstack((ar1,ar2)))"
   ]
  },
  {
   "cell_type": "raw",
   "metadata": {},
   "source": [
    "Questions 6:\n",
    "How to get unique items and counts of unique items?"
   ]
  },
  {
   "cell_type": "code",
   "execution_count": 37,
   "metadata": {},
   "outputs": [
    {
     "name": "stdout",
     "output_type": "stream",
     "text": [
      "Original Array:\n",
      " [  2   3   5   6   7   4   3   5   6   4   3   3   6  78   2   3   4   3\n",
      "   3   2   2  55  77 222  78  99]\n",
      "---------------------------------------------------------------------------------\n",
      "Unique Items from the Original Array:\n",
      " [  2   3   4   5   6   7  55  77  78  99 222]\n",
      "Count of Unique Items: 11\n"
     ]
    }
   ],
   "source": [
    "ar3 = np.array([2,3,5,6,7,4,3,5,6,4,3,3,6,78,2,3,4,3,3,2,2,55,77,222,78,99])\n",
    "print('Original Array:\\n',ar3)\n",
    "print('---------------------------------------------------------------------------------')\n",
    "ar4 = np.unique(ar3)\n",
    "print('Unique Items from the Original Array:\\n',ar4)\n",
    "print('Count of Unique Items:',len(ar4))"
   ]
  },
  {
   "cell_type": "code",
   "execution_count": null,
   "metadata": {},
   "outputs": [],
   "source": []
  }
 ],
 "metadata": {
  "kernelspec": {
   "display_name": "Python 3",
   "language": "python",
   "name": "python3"
  },
  "language_info": {
   "codemirror_mode": {
    "name": "ipython",
    "version": 3
   },
   "file_extension": ".py",
   "mimetype": "text/x-python",
   "name": "python",
   "nbconvert_exporter": "python",
   "pygments_lexer": "ipython3",
   "version": "3.7.6"
  }
 },
 "nbformat": 4,
 "nbformat_minor": 4
}
